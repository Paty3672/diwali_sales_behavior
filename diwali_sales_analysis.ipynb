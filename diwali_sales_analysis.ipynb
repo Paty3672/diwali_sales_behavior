{
 "cells": [
  {
   "cell_type": "markdown",
   "metadata": {},
   "source": [
    "# Code"
   ]
  },
  {
   "cell_type": "markdown",
   "metadata": {},
   "source": [
    "### Importing libraries and uploading dataset"
   ]
  },
  {
   "cell_type": "code",
   "execution_count": 97,
   "metadata": {},
   "outputs": [],
   "source": [
    "import pandas as pd\n",
    "import numpy as np\n",
    "import plotly.express as px"
   ]
  },
  {
   "cell_type": "code",
   "execution_count": 98,
   "metadata": {},
   "outputs": [],
   "source": [
    "diwali_sales = pd.read_csv('cleaned_Diwali_sales.csv')"
   ]
  },
  {
   "cell_type": "markdown",
   "metadata": {},
   "source": [
    "### Checking and fixing any inconsistencies"
   ]
  },
  {
   "cell_type": "code",
   "execution_count": 99,
   "metadata": {},
   "outputs": [
    {
     "name": "stdout",
     "output_type": "stream",
     "text": [
      "<class 'pandas.core.frame.DataFrame'>\n",
      "RangeIndex: 11251 entries, 0 to 11250\n",
      "Data columns (total 15 columns):\n",
      " #   Column            Non-Null Count  Dtype  \n",
      "---  ------            --------------  -----  \n",
      " 0   Unnamed: 0        11251 non-null  int64  \n",
      " 1   User_ID           11251 non-null  int64  \n",
      " 2   Cust_name         11251 non-null  object \n",
      " 3   Product_ID        11251 non-null  object \n",
      " 4   Gender            11251 non-null  object \n",
      " 5   Age Group         11251 non-null  object \n",
      " 6   Age               11251 non-null  int64  \n",
      " 7   Marital_Status    11251 non-null  int64  \n",
      " 8   State             11251 non-null  object \n",
      " 9   Zone              11251 non-null  object \n",
      " 10  Occupation        11251 non-null  object \n",
      " 11  Product_Category  11251 non-null  object \n",
      " 12  Orders            11251 non-null  int64  \n",
      " 13  Amount            11239 non-null  float64\n",
      " 14  age_group         11115 non-null  object \n",
      "dtypes: float64(1), int64(5), object(9)\n",
      "memory usage: 1.3+ MB\n"
     ]
    }
   ],
   "source": [
    "diwali_sales.info()"
   ]
  },
  {
   "cell_type": "code",
   "execution_count": 100,
   "metadata": {},
   "outputs": [],
   "source": [
    "#Columns Unamed: 0 was deleted because it was an index that become a column during the uploading process \n",
    "diwali_sales = diwali_sales.drop(columns = 'Unnamed: 0')"
   ]
  },
  {
   "cell_type": "code",
   "execution_count": 101,
   "metadata": {},
   "outputs": [],
   "source": [
    "#Replacing F and M for Female and Male\n",
    "diwali_sales['Gender'] = diwali_sales['Gender'].replace({'F':'Female','M':'Male'})"
   ]
  },
  {
   "cell_type": "code",
   "execution_count": 102,
   "metadata": {},
   "outputs": [
    {
     "name": "stdout",
     "output_type": "stream",
     "text": [
      "<class 'pandas.core.frame.DataFrame'>\n",
      "RangeIndex: 11251 entries, 0 to 11250\n",
      "Data columns (total 14 columns):\n",
      " #   Column            Non-Null Count  Dtype  \n",
      "---  ------            --------------  -----  \n",
      " 0   User_ID           11251 non-null  int64  \n",
      " 1   Cust_name         11251 non-null  object \n",
      " 2   Product_ID        11251 non-null  object \n",
      " 3   Gender            11251 non-null  object \n",
      " 4   Age Group         11251 non-null  object \n",
      " 5   Age               11251 non-null  int64  \n",
      " 6   Marital_Status    11251 non-null  int64  \n",
      " 7   State             11251 non-null  object \n",
      " 8   Zone              11251 non-null  object \n",
      " 9   Occupation        11251 non-null  object \n",
      " 10  Product_Category  11251 non-null  object \n",
      " 11  Orders            11251 non-null  int64  \n",
      " 12  Amount            11239 non-null  float64\n",
      " 13  age_group         11115 non-null  object \n",
      "dtypes: float64(1), int64(4), object(9)\n",
      "memory usage: 1.2+ MB\n"
     ]
    }
   ],
   "source": [
    "diwali_sales.info()"
   ]
  },
  {
   "cell_type": "code",
   "execution_count": 103,
   "metadata": {},
   "outputs": [
    {
     "name": "stdout",
     "output_type": "stream",
     "text": [
      "['26-35' '0-17' '18-25' '55+' '46-50' '51-55' '36-45']\n",
      "['19-30' '31-40' '11-18' '51-80' '41-50' nan]\n"
     ]
    }
   ],
   "source": [
    "#Checking the differences between two similar columns.\n",
    "#'Age Group' columns has more grouped options than 'age_group' columns and no null values.\n",
    "print(diwali_sales['Age Group'].unique())\n",
    "print(diwali_sales['age_group'].unique())"
   ]
  },
  {
   "cell_type": "code",
   "execution_count": 104,
   "metadata": {},
   "outputs": [],
   "source": [
    "#Removing age_group column\n",
    "diwali_sales = diwali_sales.drop(columns = 'age_group')"
   ]
  },
  {
   "cell_type": "code",
   "execution_count": 105,
   "metadata": {},
   "outputs": [
    {
     "data": {
      "text/html": [
       "<div>\n",
       "<style scoped>\n",
       "    .dataframe tbody tr th:only-of-type {\n",
       "        vertical-align: middle;\n",
       "    }\n",
       "\n",
       "    .dataframe tbody tr th {\n",
       "        vertical-align: top;\n",
       "    }\n",
       "\n",
       "    .dataframe thead th {\n",
       "        text-align: right;\n",
       "    }\n",
       "</style>\n",
       "<table border=\"1\" class=\"dataframe\">\n",
       "  <thead>\n",
       "    <tr style=\"text-align: right;\">\n",
       "      <th></th>\n",
       "      <th>User_ID</th>\n",
       "      <th>Cust_name</th>\n",
       "      <th>Product_ID</th>\n",
       "      <th>Gender</th>\n",
       "      <th>Age Group</th>\n",
       "      <th>Age</th>\n",
       "      <th>Marital_Status</th>\n",
       "      <th>State</th>\n",
       "      <th>Zone</th>\n",
       "      <th>Occupation</th>\n",
       "      <th>Product_Category</th>\n",
       "      <th>Orders</th>\n",
       "      <th>Amount</th>\n",
       "    </tr>\n",
       "  </thead>\n",
       "  <tbody>\n",
       "    <tr>\n",
       "      <th>4867</th>\n",
       "      <td>1004312</td>\n",
       "      <td>Eaton</td>\n",
       "      <td>P00054242</td>\n",
       "      <td>Female</td>\n",
       "      <td>26-35</td>\n",
       "      <td>35</td>\n",
       "      <td>0</td>\n",
       "      <td>Maharashtra</td>\n",
       "      <td>Western</td>\n",
       "      <td>Construction</td>\n",
       "      <td>Clothing &amp; Apparel</td>\n",
       "      <td>3</td>\n",
       "      <td>8818.0</td>\n",
       "    </tr>\n",
       "  </tbody>\n",
       "</table>\n",
       "</div>"
      ],
      "text/plain": [
       "      User_ID Cust_name Product_ID  Gender Age Group  Age  Marital_Status  \\\n",
       "4867  1004312     Eaton  P00054242  Female     26-35   35               0   \n",
       "\n",
       "            State     Zone    Occupation    Product_Category  Orders  Amount  \n",
       "4867  Maharashtra  Western  Construction  Clothing & Apparel       3  8818.0  "
      ]
     },
     "execution_count": 105,
     "metadata": {},
     "output_type": "execute_result"
    }
   ],
   "source": [
    "diwali_sales.sample()"
   ]
  },
  {
   "cell_type": "code",
   "execution_count": 106,
   "metadata": {},
   "outputs": [],
   "source": [
    "# Converting binary data to categorical data\n",
    "diwali_sales['Marital_Status'] = diwali_sales['Marital_Status'].replace({0:'Not married',1:'Married'})"
   ]
  },
  {
   "cell_type": "code",
   "execution_count": 107,
   "metadata": {},
   "outputs": [
    {
     "data": {
      "text/html": [
       "<div>\n",
       "<style scoped>\n",
       "    .dataframe tbody tr th:only-of-type {\n",
       "        vertical-align: middle;\n",
       "    }\n",
       "\n",
       "    .dataframe tbody tr th {\n",
       "        vertical-align: top;\n",
       "    }\n",
       "\n",
       "    .dataframe thead th {\n",
       "        text-align: right;\n",
       "    }\n",
       "</style>\n",
       "<table border=\"1\" class=\"dataframe\">\n",
       "  <thead>\n",
       "    <tr style=\"text-align: right;\">\n",
       "      <th></th>\n",
       "      <th>User_ID</th>\n",
       "      <th>Cust_name</th>\n",
       "      <th>Product_ID</th>\n",
       "      <th>Gender</th>\n",
       "      <th>Age Group</th>\n",
       "      <th>Age</th>\n",
       "      <th>Marital_Status</th>\n",
       "      <th>State</th>\n",
       "      <th>Zone</th>\n",
       "      <th>Occupation</th>\n",
       "      <th>Product_Category</th>\n",
       "      <th>Orders</th>\n",
       "      <th>Amount</th>\n",
       "    </tr>\n",
       "  </thead>\n",
       "  <tbody>\n",
       "    <tr>\n",
       "      <th>4002</th>\n",
       "      <td>1002392</td>\n",
       "      <td>Meade</td>\n",
       "      <td>P00267642</td>\n",
       "      <td>Male</td>\n",
       "      <td>55+</td>\n",
       "      <td>64</td>\n",
       "      <td>Not married</td>\n",
       "      <td>Uttar Pradesh</td>\n",
       "      <td>Central</td>\n",
       "      <td>Food Processing</td>\n",
       "      <td>Books</td>\n",
       "      <td>1</td>\n",
       "      <td>10262.0</td>\n",
       "    </tr>\n",
       "  </tbody>\n",
       "</table>\n",
       "</div>"
      ],
      "text/plain": [
       "      User_ID Cust_name Product_ID Gender Age Group  Age Marital_Status  \\\n",
       "4002  1002392     Meade  P00267642   Male       55+   64    Not married   \n",
       "\n",
       "              State     Zone       Occupation Product_Category  Orders  \\\n",
       "4002  Uttar Pradesh  Central  Food Processing            Books       1   \n",
       "\n",
       "       Amount  \n",
       "4002  10262.0  "
      ]
     },
     "execution_count": 107,
     "metadata": {},
     "output_type": "execute_result"
    }
   ],
   "source": [
    "diwali_sales.sample(1)"
   ]
  },
  {
   "cell_type": "markdown",
   "metadata": {},
   "source": [
    "### First analysis"
   ]
  },
  {
   "cell_type": "code",
   "execution_count": 108,
   "metadata": {},
   "outputs": [],
   "source": [
    "total_spent_by_age_group = diwali_sales.groupby(['Age Group'])['Amount'].sum().reset_index(name = 'Total spent').sort_values(by = 'Total spent',ascending = False)"
   ]
  },
  {
   "cell_type": "code",
   "execution_count": 109,
   "metadata": {},
   "outputs": [],
   "source": [
    "total_spent_by_age = diwali_sales.groupby(['Age'])['Amount'].sum().reset_index(name = 'Total spent').sort_values(by = 'Total spent',ascending = False)"
   ]
  },
  {
   "cell_type": "code",
   "execution_count": 110,
   "metadata": {},
   "outputs": [],
   "source": [
    "total_spent_by_gender = diwali_sales.groupby(['Gender'])['Amount'].sum().reset_index(name = 'Total spent').sort_values(by = 'Total spent',ascending = False)"
   ]
  },
  {
   "cell_type": "code",
   "execution_count": 111,
   "metadata": {},
   "outputs": [],
   "source": [
    "total_spent_by_marital_status = diwali_sales.groupby(['Marital_Status'])['Amount'].sum().reset_index(name = 'Total spent').sort_values(by = 'Total spent',ascending = False)"
   ]
  },
  {
   "cell_type": "code",
   "execution_count": 112,
   "metadata": {},
   "outputs": [],
   "source": [
    "total_spent_by_category = diwali_sales.groupby(['Product_Category'])['Amount'].sum().reset_index(name = 'Total spent').sort_values(by = 'Total spent',ascending = False)"
   ]
  },
  {
   "cell_type": "code",
   "execution_count": 113,
   "metadata": {},
   "outputs": [],
   "source": [
    "total_spent_by_state = diwali_sales.groupby(['State'])['Amount'].sum().reset_index(name = 'Total spent').sort_values(by = 'Total spent',ascending = False)"
   ]
  },
  {
   "cell_type": "code",
   "execution_count": 114,
   "metadata": {},
   "outputs": [],
   "source": [
    "total_spent_by_occupation = diwali_sales.groupby(['Occupation'])['Amount'].sum().reset_index(name = 'Total spent').sort_values(by = 'Total spent',ascending = False)"
   ]
  },
  {
   "cell_type": "code",
   "execution_count": 115,
   "metadata": {},
   "outputs": [],
   "source": [
    "total_spent_by_occupation = diwali_sales.groupby(['Zone'])['Amount'].sum().reset_index(name = 'Total spent').sort_values(by = 'Total spent',ascending = False)"
   ]
  },
  {
   "cell_type": "code",
   "execution_count": null,
   "metadata": {},
   "outputs": [],
   "source": []
  },
  {
   "cell_type": "markdown",
   "metadata": {},
   "source": []
  }
 ],
 "metadata": {
  "kernelspec": {
   "display_name": "base",
   "language": "python",
   "name": "python3"
  },
  "language_info": {
   "codemirror_mode": {
    "name": "ipython",
    "version": 3
   },
   "file_extension": ".py",
   "mimetype": "text/x-python",
   "name": "python",
   "nbconvert_exporter": "python",
   "pygments_lexer": "ipython3",
   "version": "3.9.13"
  }
 },
 "nbformat": 4,
 "nbformat_minor": 2
}
